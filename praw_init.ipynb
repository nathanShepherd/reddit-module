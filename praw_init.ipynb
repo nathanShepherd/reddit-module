{
 "cells": [
  {
   "cell_type": "markdown",
   "metadata": {},
   "source": [
    "Connect to Reddit using Python Reddit API Wrapper(PRAW)"
   ]
  },
  {
   "cell_type": "code",
   "execution_count": 17,
   "metadata": {},
   "outputs": [],
   "source": [
    "import praw\n",
    "\n",
    "# Read praw initialization from text file\n",
    "with open('secrets/praw.ini') as init_file:\n",
    "    config = init_file.read().split(',')\n",
    "    config = dict([info.split('=') for info in config])\n",
    "\n",
    "# Connect to reddit api (read-only) using the stored configurations \n",
    "reddit = praw.Reddit(\n",
    "    client_id=config['client_id'],\n",
    "    user_agent=config['user_agent'],\n",
    "    client_secret=config['client_secret']\n",
    ")"
   ]
  },
  {
   "cell_type": "markdown",
   "metadata": {},
   "source": [
    "Fetch some submissions from a subreddit"
   ]
  },
  {
   "cell_type": "code",
   "execution_count": 28,
   "metadata": {},
   "outputs": [
    {
     "name": "stdout",
     "output_type": "stream",
     "text": [
      "Hi this is post test can u up vote me .\n",
      "3258\n",
      "qhjnk4\n",
      "https://www.reddit.com/r/test/comments/qhjnk4/hi_this_is_post_test_can_u_up_vote_me/\n",
      "<class 'praw.models.reddit.submission.Submission'>\n"
     ]
    }
   ],
   "source": [
    "for submission in reddit.subreddit(\"test\").top(limit=1):\n",
    "    print(submission.title)\n",
    "    # Output: the submission's title\n",
    "    print(submission.score)\n",
    "    # Output: the submission's score\n",
    "    print(submission.id)\n",
    "    # Output: the submission's ID\n",
    "    print(submission.url)\n",
    "    # Output: the URL the submission points to or the submission's URL if it's a self post\n",
    "    print(type(submission))"
   ]
  },
  {
   "cell_type": "markdown",
   "metadata": {},
   "source": [
    "Available data from a single submission"
   ]
  },
  {
   "cell_type": "code",
   "execution_count": 41,
   "metadata": {},
   "outputs": [
    {
     "data": {
      "text/plain": [
       "{'comment_limit': 2048,\n",
       " 'comment_sort': 'confidence',\n",
       " 'id': 'qhjnk4',\n",
       " '_reddit': <praw.reddit.Reddit at 0x7faf9c2c2a60>,\n",
       " '_fetched': False,\n",
       " '_comments_by_id': {}}"
      ]
     },
     "execution_count": 41,
     "metadata": {},
     "output_type": "execute_result"
    }
   ],
   "source": [
    "# Select the top post from r/test\n",
    "single_post = reddit.subreddit(\"test\").top(limit=1)\n",
    "# Get the submission object\n",
    "vars(reddit.submission('qhjnk4'))"
   ]
  },
  {
   "cell_type": "markdown",
   "metadata": {},
   "source": [
    "Extract info for top 10 posts on r/datascience and make df [credits](https://towardsdatascience.com/scraping-reddit-data-1c0af3040768)"
   ]
  },
  {
   "cell_type": "code",
   "execution_count": 39,
   "metadata": {},
   "outputs": [
    {
     "data": {
      "text/html": [
       "<div>\n",
       "<style scoped>\n",
       "    .dataframe tbody tr th:only-of-type {\n",
       "        vertical-align: middle;\n",
       "    }\n",
       "\n",
       "    .dataframe tbody tr th {\n",
       "        vertical-align: top;\n",
       "    }\n",
       "\n",
       "    .dataframe thead th {\n",
       "        text-align: right;\n",
       "    }\n",
       "</style>\n",
       "<table border=\"1\" class=\"dataframe\">\n",
       "  <thead>\n",
       "    <tr style=\"text-align: right;\">\n",
       "      <th></th>\n",
       "      <th>title</th>\n",
       "      <th>score</th>\n",
       "      <th>id</th>\n",
       "      <th>subreddit</th>\n",
       "      <th>url</th>\n",
       "      <th>num_comments</th>\n",
       "      <th>body</th>\n",
       "      <th>created</th>\n",
       "    </tr>\n",
       "  </thead>\n",
       "  <tbody>\n",
       "    <tr>\n",
       "      <th>0</th>\n",
       "      <td>[D] Simple Questions Thread</td>\n",
       "      <td>14</td>\n",
       "      <td>xnpn0j</td>\n",
       "      <td>MachineLearning</td>\n",
       "      <td>https://www.reddit.com/r/MachineLearning/comme...</td>\n",
       "      <td>68</td>\n",
       "      <td>Please post your questions here instead of cre...</td>\n",
       "      <td>1.664118e+09</td>\n",
       "    </tr>\n",
       "    <tr>\n",
       "      <th>1</th>\n",
       "      <td>[D] Machine Learning - WAYR (What Are You Read...</td>\n",
       "      <td>175</td>\n",
       "      <td>vg5kjd</td>\n",
       "      <td>MachineLearning</td>\n",
       "      <td>https://www.reddit.com/r/MachineLearning/comme...</td>\n",
       "      <td>47</td>\n",
       "      <td>This is a place to share machine learning rese...</td>\n",
       "      <td>1.655675e+09</td>\n",
       "    </tr>\n",
       "    <tr>\n",
       "      <th>2</th>\n",
       "      <td>[D] Giving Up on Staying Up to Date and Splitt...</td>\n",
       "      <td>135</td>\n",
       "      <td>xxyeun</td>\n",
       "      <td>MachineLearning</td>\n",
       "      <td>https://www.reddit.com/r/MachineLearning/comme...</td>\n",
       "      <td>17</td>\n",
       "      <td>Does  anyone else feel completely unable to ke...</td>\n",
       "      <td>1.665147e+09</td>\n",
       "    </tr>\n",
       "    <tr>\n",
       "      <th>3</th>\n",
       "      <td>[P] Stable-DreamFusion: A working implementati...</td>\n",
       "      <td>188</td>\n",
       "      <td>xxmdbv</td>\n",
       "      <td>MachineLearning</td>\n",
       "      <td>https://github.com/ashawkey/stable-dreamfusion</td>\n",
       "      <td>11</td>\n",
       "      <td></td>\n",
       "      <td>1.665107e+09</td>\n",
       "    </tr>\n",
       "    <tr>\n",
       "      <th>4</th>\n",
       "      <td>[R] Google AudioLM produces amazing quality co...</td>\n",
       "      <td>11</td>\n",
       "      <td>xy3zfe</td>\n",
       "      <td>MachineLearning</td>\n",
       "      <td>https://www.reddit.com/r/MachineLearning/comme...</td>\n",
       "      <td>0</td>\n",
       "      <td>LM-based; in contrast to other recent audio ge...</td>\n",
       "      <td>1.665161e+09</td>\n",
       "    </tr>\n",
       "    <tr>\n",
       "      <th>5</th>\n",
       "      <td>[P] We released a new open-source library for ...</td>\n",
       "      <td>185</td>\n",
       "      <td>xxf8i8</td>\n",
       "      <td>MachineLearning</td>\n",
       "      <td>https://www.reddit.com/r/MachineLearning/comme...</td>\n",
       "      <td>17</td>\n",
       "      <td>Hi everyone! My comrades and I have released t...</td>\n",
       "      <td>1.665088e+09</td>\n",
       "    </tr>\n",
       "    <tr>\n",
       "      <th>6</th>\n",
       "      <td>[P] Stack Overflow Semantic Search</td>\n",
       "      <td>10</td>\n",
       "      <td>xxupek</td>\n",
       "      <td>MachineLearning</td>\n",
       "      <td>https://www.reddit.com/r/MachineLearning/comme...</td>\n",
       "      <td>0</td>\n",
       "      <td>&amp;#x200B;\\n\\nhttps://i.redd.it/du2ow6pctcs91.gi...</td>\n",
       "      <td>1.665136e+09</td>\n",
       "    </tr>\n",
       "    <tr>\n",
       "      <th>7</th>\n",
       "      <td>[N] I Have Released the YouTube Series Discuss...</td>\n",
       "      <td>44</td>\n",
       "      <td>xxkgp2</td>\n",
       "      <td>MachineLearning</td>\n",
       "      <td>https://www.reddit.com/r/MachineLearning/comme...</td>\n",
       "      <td>7</td>\n",
       "      <td>Hi folks,\\n\\n[stylepoint](https://www.youtube....</td>\n",
       "      <td>1.665101e+09</td>\n",
       "    </tr>\n",
       "    <tr>\n",
       "      <th>8</th>\n",
       "      <td>[P] skorch 0.12.0 - HuggingFace integrations f...</td>\n",
       "      <td>2</td>\n",
       "      <td>xy30i0</td>\n",
       "      <td>MachineLearning</td>\n",
       "      <td>https://www.reddit.com/r/MachineLearning/comme...</td>\n",
       "      <td>0</td>\n",
       "      <td>Hey r/machinelearning, we're pleased to announ...</td>\n",
       "      <td>1.665159e+09</td>\n",
       "    </tr>\n",
       "    <tr>\n",
       "      <th>9</th>\n",
       "      <td>[D] When are you qualified to review other AI ...</td>\n",
       "      <td>7</td>\n",
       "      <td>xxp64m</td>\n",
       "      <td>MachineLearning</td>\n",
       "      <td>https://www.reddit.com/r/MachineLearning/comme...</td>\n",
       "      <td>7</td>\n",
       "      <td>I'm a Master's student in Computer Science tha...</td>\n",
       "      <td>1.665116e+09</td>\n",
       "    </tr>\n",
       "  </tbody>\n",
       "</table>\n",
       "</div>"
      ],
      "text/plain": [
       "                                               title  score      id  \\\n",
       "0                        [D] Simple Questions Thread     14  xnpn0j   \n",
       "1  [D] Machine Learning - WAYR (What Are You Read...    175  vg5kjd   \n",
       "2  [D] Giving Up on Staying Up to Date and Splitt...    135  xxyeun   \n",
       "3  [P] Stable-DreamFusion: A working implementati...    188  xxmdbv   \n",
       "4  [R] Google AudioLM produces amazing quality co...     11  xy3zfe   \n",
       "5  [P] We released a new open-source library for ...    185  xxf8i8   \n",
       "6                 [P] Stack Overflow Semantic Search     10  xxupek   \n",
       "7  [N] I Have Released the YouTube Series Discuss...     44  xxkgp2   \n",
       "8  [P] skorch 0.12.0 - HuggingFace integrations f...      2  xy30i0   \n",
       "9  [D] When are you qualified to review other AI ...      7  xxp64m   \n",
       "\n",
       "         subreddit                                                url  \\\n",
       "0  MachineLearning  https://www.reddit.com/r/MachineLearning/comme...   \n",
       "1  MachineLearning  https://www.reddit.com/r/MachineLearning/comme...   \n",
       "2  MachineLearning  https://www.reddit.com/r/MachineLearning/comme...   \n",
       "3  MachineLearning     https://github.com/ashawkey/stable-dreamfusion   \n",
       "4  MachineLearning  https://www.reddit.com/r/MachineLearning/comme...   \n",
       "5  MachineLearning  https://www.reddit.com/r/MachineLearning/comme...   \n",
       "6  MachineLearning  https://www.reddit.com/r/MachineLearning/comme...   \n",
       "7  MachineLearning  https://www.reddit.com/r/MachineLearning/comme...   \n",
       "8  MachineLearning  https://www.reddit.com/r/MachineLearning/comme...   \n",
       "9  MachineLearning  https://www.reddit.com/r/MachineLearning/comme...   \n",
       "\n",
       "   num_comments                                               body  \\\n",
       "0            68  Please post your questions here instead of cre...   \n",
       "1            47  This is a place to share machine learning rese...   \n",
       "2            17  Does  anyone else feel completely unable to ke...   \n",
       "3            11                                                      \n",
       "4             0  LM-based; in contrast to other recent audio ge...   \n",
       "5            17  Hi everyone! My comrades and I have released t...   \n",
       "6             0  &#x200B;\\n\\nhttps://i.redd.it/du2ow6pctcs91.gi...   \n",
       "7             7  Hi folks,\\n\\n[stylepoint](https://www.youtube....   \n",
       "8             0  Hey r/machinelearning, we're pleased to announ...   \n",
       "9             7  I'm a Master's student in Computer Science tha...   \n",
       "\n",
       "        created  \n",
       "0  1.664118e+09  \n",
       "1  1.655675e+09  \n",
       "2  1.665147e+09  \n",
       "3  1.665107e+09  \n",
       "4  1.665161e+09  \n",
       "5  1.665088e+09  \n",
       "6  1.665136e+09  \n",
       "7  1.665101e+09  \n",
       "8  1.665159e+09  \n",
       "9  1.665116e+09  "
      ]
     },
     "metadata": {},
     "output_type": "display_data"
    }
   ],
   "source": [
    "\n",
    "import pandas as pd\n",
    "posts = []\n",
    "ml_subreddit = reddit.subreddit('MachineLearning')\n",
    "for post in ml_subreddit.hot(limit=10):\n",
    "    posts.append([post.title, post.score, post.id, post.subreddit, post.url, post.num_comments, post.selftext, post.created])\n",
    "posts = pd.DataFrame(posts,columns=['title', 'score', 'id', 'subreddit', 'url', 'num_comments', 'body', 'created'])\n",
    "display(posts)"
   ]
  }
 ],
 "metadata": {
  "kernelspec": {
   "display_name": "Python 3.8.5 64-bit",
   "language": "python",
   "name": "python3"
  },
  "language_info": {
   "codemirror_mode": {
    "name": "ipython",
    "version": 3
   },
   "file_extension": ".py",
   "mimetype": "text/x-python",
   "name": "python",
   "nbconvert_exporter": "python",
   "pygments_lexer": "ipython3",
   "version": "3.8.5"
  },
  "orig_nbformat": 4,
  "vscode": {
   "interpreter": {
    "hash": "916dbcbb3f70747c44a77c7bcd40155683ae19c65e1c03b4aa3499c5328201f1"
   }
  }
 },
 "nbformat": 4,
 "nbformat_minor": 2
}
